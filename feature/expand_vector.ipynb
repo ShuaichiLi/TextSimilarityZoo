{
 "cells": [
  {
   "cell_type": "code",
   "execution_count": 1,
   "metadata": {},
   "outputs": [],
   "source": [
    "import pandas as pd\n",
    "\n",
    "question_id_df = pd.read_csv('../TextMatchingCHIP/ytc/data/question_id.csv')\n"
   ]
  },
  {
   "cell_type": "code",
   "execution_count": 8,
   "metadata": {},
   "outputs": [],
   "source": [
    "with open('../TextMatchingCHIP/ytc/data/raw_word.txt','w') as f:\n",
    "    f.write('\\n'.join(question_id_df.wid.tolist()))\n",
    "\n",
    "with open('../TextMatchingCHIP/ytc/data/raw_char.txt','w') as f:\n",
    "    f.write('\\n'.join(question_id_df.cid.tolist()))"
   ]
  },
  {
   "cell_type": "code",
   "execution_count": 9,
   "metadata": {},
   "outputs": [],
   "source": [
    "import os\n",
    "import jieba\n",
    "import gensim\n",
    "from gensim.models import KeyedVectors\n",
    "import json\n",
    "import pandas as pd\n",
    "\n",
    "\n",
    "class Sentences(object):\n",
    "    '''\n",
    "    输入参数：dirname 文件夹名\n",
    "    首次调用将在jiebaresult文件夹中生成以jiebaresult开头的分词后的文件\\\n",
    "    mode: 字向量或词向量\n",
    "    '''\n",
    "\n",
    "    # TODO 动态添加新数据\n",
    "    def __init__(self, mode,need_split=False):\n",
    "        self.mode = mode\n",
    "\n",
    "    def __iter__(self):\n",
    "        print('-----')\n",
    "        # 读取分好词的文件\n",
    "        with open('../TextMatchingCHIP/ytc/data/raw_{}.txt'.format(self.mode), encoding='utf8', errors='ignore') as f:\n",
    "            for line in f.readlines():\n",
    "                yield line.strip().split(' ')\n"
   ]
  },
  {
   "cell_type": "code",
   "execution_count": 11,
   "metadata": {
    "collapsed": true
   },
   "outputs": [
    {
     "name": "stdout",
     "output_type": "stream",
     "text": [
      "-----\n",
      "-----\n",
      "-----\n",
      "-----\n",
      "-----\n",
      "-----\n",
      "50\n",
      "-----\n",
      "-----\n",
      "-----\n",
      "-----\n",
      "-----\n",
      "-----\n",
      "100\n",
      "-----\n",
      "-----\n",
      "-----\n",
      "-----\n",
      "-----\n",
      "-----\n",
      "200\n"
     ]
    }
   ],
   "source": [
    "for dim in [50,100,200]:\n",
    "    char_sentences = Sentences(mode='char')\n",
    "    char_model = gensim.models.Word2Vec(char_sentences, size=dim, sg=1, hs=0, negative=5,\n",
    "                                        min_count=1, workers=4, iter=5)\n",
    "    char_model.wv.save('../TextMatchingCHIP/ytc/data/char_w2v_{}.vec'.format(str(dim)))\n",
    "    print(dim)"
   ]
  },
  {
   "cell_type": "code",
   "execution_count": 12,
   "metadata": {
    "collapsed": true
   },
   "outputs": [
    {
     "name": "stdout",
     "output_type": "stream",
     "text": [
      "-----\n",
      "-----\n",
      "-----\n",
      "-----\n",
      "-----\n",
      "-----\n",
      "50\n",
      "-----\n",
      "-----\n",
      "-----\n",
      "-----\n",
      "-----\n",
      "-----\n",
      "100\n",
      "-----\n",
      "-----\n",
      "-----\n",
      "-----\n",
      "-----\n",
      "-----\n",
      "200\n"
     ]
    }
   ],
   "source": [
    "for dim in [50,100,200]:\n",
    "    char_sentences = Sentences(mode='word')\n",
    "    char_model = gensim.models.Word2Vec(char_sentences, size=dim, sg=1, hs=0, negative=5,\n",
    "                                        min_count=1, workers=4, iter=5)\n",
    "    char_model.wv.save('../TextMatchingCHIP/ytc/data/word_w2v_{}.vec'.format(str(dim)))\n",
    "    print(dim)"
   ]
  },
  {
   "cell_type": "markdown",
   "metadata": {},
   "source": [
    "### glove 转为 gensim 格式以便计算wmd\n",
    "- glove 利用https://github.com/stanfordnlp/GloVe\n"
   ]
  },
  {
   "cell_type": "code",
   "execution_count": null,
   "metadata": {},
   "outputs": [],
   "source": [
    "glove 参数\n",
    "\"\"\" \n",
    "VERBOSE=2\n",
    "    MEMORY=4.0\n",
    "    VOCAB_MIN_COUNT=2\n",
    "    VECTOR_SIZE=50\n",
    "    MAX_ITER=15\n",
    "    WINDOW_SIZE=15\n",
    "    BINARY=2\n",
    "    NUM_THREADS=8\n",
    "    X_MAX=10\"\"\""
   ]
  },
  {
   "cell_type": "code",
   "execution_count": 3,
   "metadata": {},
   "outputs": [
    {
     "name": "stdout",
     "output_type": "stream",
     "text": [
      "../TextMatchingCHIP/ytc/data/word_glove_50.vec 已转换为gensim格式\n",
      "../TextMatchingCHIP/ytc/data/word_glove_100.vec 已转换为gensim格式\n",
      "../TextMatchingCHIP/ytc/data/word_glove_200.vec 已转换为gensim格式\n",
      "../TextMatchingCHIP/ytc/data/char_glove_50.vec 已转换为gensim格式\n",
      "../TextMatchingCHIP/ytc/data/char_glove_100.vec 已转换为gensim格式\n",
      "../TextMatchingCHIP/ytc/data/char_glove_200.vec 已转换为gensim格式\n"
     ]
    }
   ],
   "source": [
    "for cut in ['word','char']:\n",
    "    for dim in ['50','100','200']:\n",
    "        src_fname='glove/chip_{}_{}.txt.txt'.format(cut,dim)\n",
    "        dst_fname = '../TextMatchingCHIP/ytc/data/{}_glove_{}.vec'.format(cut,dim)\n",
    "        with open(src_fname,encoding='utf8') as src:\n",
    "            vector_size=len(src.readline().strip().split())-1\n",
    "            vocab_size=1+len(src.readlines())\n",
    "        with open(dst_fname,'w',encoding='utf8') as dst:\n",
    "            dst.write('%d %d\\n'%(vocab_size,vector_size))\n",
    "            with open(src_fname,encoding='utf8') as src:\n",
    "                for line in src:\n",
    "                    dst.write(line)\n",
    "        print(dst_fname,'已转换为gensim格式')"
   ]
  },
  {
   "cell_type": "code",
   "execution_count": null,
   "metadata": {},
   "outputs": [],
   "source": []
  }
 ],
 "metadata": {
  "kernelspec": {
   "display_name": "Python 3",
   "language": "python",
   "name": "python3"
  },
  "language_info": {
   "codemirror_mode": {
    "name": "ipython",
    "version": 3
   },
   "file_extension": ".py",
   "mimetype": "text/x-python",
   "name": "python",
   "nbconvert_exporter": "python",
   "pygments_lexer": "ipython3",
   "version": "3.6.4"
  }
 },
 "nbformat": 4,
 "nbformat_minor": 2
}
