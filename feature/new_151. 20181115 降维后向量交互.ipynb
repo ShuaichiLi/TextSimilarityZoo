{
 "cells": [
  {
   "cell_type": "markdown",
   "metadata": {},
   "source": [
    "# 交互式特征抽取\n",
    "\n",
    "建立在文本向量化表示的基础上进行交互式的特征的抽取"
   ]
  },
  {
   "cell_type": "markdown",
   "metadata": {},
   "source": [
    "# 使用scipy库中的距离计算库进行计算"
   ]
  },
  {
   "cell_type": "markdown",
   "metadata": {},
   "source": [
    "# 特征抽取 \n",
    "命名原则为 单独某个句子的特征使用q1或者q2开头\n",
    "\n",
    "两个句子共同特征 命名方式统一为q12\n",
    "\n",
    "使用 距离计算库scipy.spatial.distance 计算两个向量距离\n",
    "\n",
    "对之前tfidf cos方法的补充"
   ]
  },
  {
   "cell_type": "code",
   "execution_count": 1,
   "metadata": {},
   "outputs": [],
   "source": [
    "import pickle\n",
    "import os\n",
    "import re\n",
    "import numpy\n",
    "import numpy as np\n",
    "import pandas as pd\n",
    "import copy\n",
    "import time\n",
    "import scipy.spatial.distance as dist\n",
    "from sklearn.feature_extraction.text import TfidfVectorizer"
   ]
  },
  {
   "cell_type": "code",
   "execution_count": 2,
   "metadata": {},
   "outputs": [],
   "source": [
    "def read_pickle(fname):\n",
    "    with open(fname,'rb') as file:\n",
    "        return pickle.load(file)\n",
    "def dump_pickle(obj,fname):\n",
    "    with open(fname,'wb') as file:\n",
    "        pickle.dump(obj,file)"
   ]
  },
  {
   "cell_type": "code",
   "execution_count": 3,
   "metadata": {},
   "outputs": [],
   "source": [
    "merge_df = pd.read_pickle('../data/pure_data/merge_df_2018111172053.pkl')"
   ]
  },
  {
   "cell_type": "code",
   "execution_count": 4,
   "metadata": {},
   "outputs": [],
   "source": [
    "all_df = pd.read_csv('../data/raw_data/question_id.csv')"
   ]
  },
  {
   "cell_type": "code",
   "execution_count": 5,
   "metadata": {},
   "outputs": [],
   "source": [
    "feature_stop_columns = ['qid1','qid2','label','q1_w_list', 'q1_c_list', 'q2_w_list', 'q2_c_list']"
   ]
  },
  {
   "cell_type": "code",
   "execution_count": 6,
   "metadata": {},
   "outputs": [],
   "source": [
    "def what_time_now():\n",
    "    localtime = time.localtime()\n",
    "    return '{0:0>4}{1:0>2}{2:0>2}{3:0>2}{4:0>2}'.format(localtime[0],localtime[1],localtime[2],localtime[3],localtime[4])"
   ]
  },
  {
   "cell_type": "code",
   "execution_count": 7,
   "metadata": {},
   "outputs": [],
   "source": [
    "def interaction_output_distance(func,matrix1,matrix2):\n",
    "    '''\n",
    "    调用scipy函数计算matrix12对应行的距离\n",
    "    matrix12 shape应当一致 为数据量 * 特征维度\n",
    "    返回值为 数据量 * 1的向量 代表q1 和 q2的交互\n",
    "    '''\n",
    "    result = []\n",
    "    for index,vec in enumerate(matrix1):\n",
    "        result.append(func(vec,matrix2[index]))\n",
    "    return result"
   ]
  },
  {
   "cell_type": "code",
   "execution_count": 8,
   "metadata": {},
   "outputs": [],
   "source": [
    "def scipy_dist_interaction_df_update(func,df,matrix1,matrix2,label='w_tfidf_1gram'):\n",
    "    func_name = func.__name__\n",
    "    new_label = 'q12_{0}_{1}'.format(label,func_name)\n",
    "    df[new_label] = interaction_output_distance(func,matrix1,matrix2)\n",
    "    # 平滑\n",
    "    df = df.fillna(value=1e-6)\n",
    "    # 归一化\n",
    "    max_val = max(df[new_label])\n",
    "    min_val = min(df[new_label])\n",
    "    if max_val != min_val:\n",
    "        df[new_label] = df[new_label].apply(lambda x:(x-min_val)/(max_val-min_val))\n",
    "    else:\n",
    "        df[new_label] = [1.0 for i in range(df.shape[0])]\n",
    "    return df"
   ]
  },
  {
   "cell_type": "code",
   "execution_count": 9,
   "metadata": {},
   "outputs": [],
   "source": [
    "def distance_pipline(df,matrix1,matrix2,label='w_tfidf_1gram'):\n",
    "    distance_func_list = [dist.braycurtis,dist.canberra,dist.chebyshev,\n",
    "                      dist.cityblock,dist.correlation,dist.dice,dist.euclidean,dist.cosine,dist.jaccard,dist.hamming,\n",
    "                     dist.kulsinski,dist.sqeuclidean]\n",
    "    for dist_fun in distance_func_list:\n",
    "        df = scipy_dist_interaction_df_update(dist_fun,df,matrix1,matrix2,label)\n",
    "    return df"
   ]
  },
  {
   "cell_type": "code",
   "execution_count": 10,
   "metadata": {},
   "outputs": [],
   "source": [
    "blank_merge_df = merge_df[['qid1','qid2','label']].copy()"
   ]
  },
  {
   "cell_type": "code",
   "execution_count": 11,
   "metadata": {},
   "outputs": [],
   "source": [
    "base_origin_dir = '../data/feature/reduction_dim/'\n",
    "base_target_dir = '../data/feature/interaction/'"
   ]
  },
  {
   "cell_type": "code",
   "execution_count": 12,
   "metadata": {},
   "outputs": [],
   "source": [
    "if not os.path.isdir(base_target_dir):\n",
    "    os.mkdir(base_target_dir)"
   ]
  },
  {
   "cell_type": "code",
   "execution_count": null,
   "metadata": {},
   "outputs": [],
   "source": []
  },
  {
   "cell_type": "markdown",
   "metadata": {},
   "source": [
    "# 批量生成特征"
   ]
  },
  {
   "cell_type": "code",
   "execution_count": 13,
   "metadata": {},
   "outputs": [],
   "source": [
    "def make_interaction(matrix_path,df):\n",
    "    matrix_fname = matrix_path.split('/')[-1]\n",
    "    matrix_granu = matrix_fname.split('_')[0]\n",
    "    matrix_label = matrix_granu.split('.')[0]\n",
    "    matrix_self = read_pickle(matrix_path)\n",
    "    \n",
    "    search_table = {}\n",
    "    for i,_ in enumerate(all_df.itertuples()):\n",
    "        search_table[all_df.loc[i,'qid']] = matrix_self[i]\n",
    "    \n",
    "    matrix1 = np.array([search_table[i] for i in df.qid1.tolist()])\n",
    "    matrix2 = np.array([search_table[i] for i in df.qid2.tolist()])\n",
    "    df = distance_pipline(df,matrix1,matrix2,label=matrix_label)\n",
    "    return df"
   ]
  },
  {
   "cell_type": "markdown",
   "metadata": {},
   "source": [
    "# TSNE结果 单独进行拼接"
   ]
  },
  {
   "cell_type": "code",
   "execution_count": 14,
   "metadata": {},
   "outputs": [],
   "source": [
    "def single_dimension_interaction(df,q1_matrix,q2_matrix,label):\n",
    "    def interaction_update(func,df,matrix1,matrix2,label='w_tfidf_1gram'):\n",
    "        func_name = '_' + func.__name__\n",
    "        result = []\n",
    "        for index,vec in enumerate(q1_matrix):\n",
    "            result.append(func(vec,q2_matrix[index]))\n",
    "        df['q12_{0}_{1}'.format(label,func_name)] = result\n",
    "        return df\n",
    "    def add(v1,v2):\n",
    "        return np.add(v1,v2)\n",
    "    def minus(v1,v2):\n",
    "        return v1 - v2\n",
    "    def minus_abs(v1,v2):\n",
    "        return np.abs(v1-v2)\n",
    "    def multi(v1,v2):\n",
    "        return v1 * v2\n",
    "    def div(v1,v2):\n",
    "        return v1 / v2\n",
    "    \n",
    "    func_pipline = [add,minus,minus_abs,multi,div]\n",
    "    for func in func_pipline:\n",
    "        interaction_update(func,df,q1_matrix,q2_matrix,label)\n",
    "    df = df.fillna(value=1e-6)\n",
    "    return df"
   ]
  },
  {
   "cell_type": "code",
   "execution_count": 15,
   "metadata": {},
   "outputs": [],
   "source": [
    "def make_tsne_interaction(matrix_path,df):\n",
    "    matrix_fname = matrix_path.split('/')[-1]\n",
    "    matrix_granu = matrix_fname.split('_')[0]\n",
    "    matrix_label = matrix_granu.split('.')[0]\n",
    "    matrix_self = read_pickle(matrix_path)\n",
    "    matrix_dim = matrix_label.split('_')[-1]\n",
    "    \n",
    "    search_table = {}\n",
    "    for i,_ in enumerate(all_df.itertuples()):\n",
    "        search_table[all_df.loc[i,'qid']] = matrix_self[i]\n",
    "    \n",
    "    matrix1 = np.array([search_table[i] for i in df.qid1.tolist()])\n",
    "    matrix2 = np.array([search_table[i] for i in df.qid2.tolist()])\n",
    "    \n",
    "    if matrix_dim == '1d':\n",
    "        df = single_dimension_interaction(df,matrix1,matrix2,matrix_label)\n",
    "    else:\n",
    "        df = distance_pipline(df,matrix1,matrix2,matrix_label)\n",
    "    return df"
   ]
  },
  {
   "cell_type": "markdown",
   "metadata": {},
   "source": [
    "# 计算同时保存特征"
   ]
  },
  {
   "cell_type": "code",
   "execution_count": 16,
   "metadata": {},
   "outputs": [],
   "source": [
    "csv_feature_base_path = '../data/csv_feature/interaction/'"
   ]
  },
  {
   "cell_type": "code",
   "execution_count": 17,
   "metadata": {
    "scrolled": true
   },
   "outputs": [
    {
     "name": "stdout",
     "output_type": "stream",
     "text": [
      "Index:0 Fname:c_tfidf_1gram_pca_50d_interaction_df.pkl\n",
      "../data/feature/interaction/pca/c_tfidf_1gram_pca_50d_interaction_df.pkl\n",
      "Index:1 Fname:w_onehot_1gram_pca_150d_interaction_df.pkl\n",
      "../data/feature/interaction/pca/w_onehot_1gram_pca_150d_interaction_df.pkl\n",
      "Index:2 Fname:w_onehot_3gram_pca_150d_interaction_df.pkl\n",
      "../data/feature/interaction/pca/w_onehot_3gram_pca_150d_interaction_df.pkl\n",
      "Index:3 Fname:w_onehot_1gram_pca_50d_interaction_df.pkl\n",
      "../data/feature/interaction/pca/w_onehot_1gram_pca_50d_interaction_df.pkl\n",
      "Index:4 Fname:c_onehot_1gram_pca_150d_interaction_df.pkl\n",
      "../data/feature/interaction/pca/c_onehot_1gram_pca_150d_interaction_df.pkl\n",
      "Index:5 Fname:c_onehot_2gram_pca_150d_interaction_df.pkl\n",
      "../data/feature/interaction/pca/c_onehot_2gram_pca_150d_interaction_df.pkl\n",
      "Index:6 Fname:w_tfidf_1gram_pca_150d_interaction_df.pkl\n",
      "../data/feature/interaction/pca/w_tfidf_1gram_pca_150d_interaction_df.pkl\n",
      "Index:7 Fname:c_tfidf_3gram_pca_50d_interaction_df.pkl\n",
      "../data/feature/interaction/pca/c_tfidf_3gram_pca_50d_interaction_df.pkl\n",
      "Index:8 Fname:w_tfidf_3gram_pca_150d_interaction_df.pkl\n",
      "../data/feature/interaction/pca/w_tfidf_3gram_pca_150d_interaction_df.pkl\n",
      "Index:9 Fname:w_onehot_2gram_pca_50d_interaction_df.pkl\n",
      "../data/feature/interaction/pca/w_onehot_2gram_pca_50d_interaction_df.pkl\n",
      "Index:10 Fname:c_tfidf_3gram_pca_300d_interaction_df.pkl\n",
      "../data/feature/interaction/pca/c_tfidf_3gram_pca_300d_interaction_df.pkl\n",
      "Index:11 Fname:c_tfidf_3gram_pca_150d_interaction_df.pkl\n",
      "../data/feature/interaction/pca/c_tfidf_3gram_pca_150d_interaction_df.pkl\n",
      "Index:12 Fname:c_tfidf_1gram_pca_300d_interaction_df.pkl\n",
      "../data/feature/interaction/pca/c_tfidf_1gram_pca_300d_interaction_df.pkl\n",
      "Index:13 Fname:w_onehot_2gram_pca_150d_interaction_df.pkl\n",
      "../data/feature/interaction/pca/w_onehot_2gram_pca_150d_interaction_df.pkl\n",
      "Index:14 Fname:w_onehot_3gram_pca_50d_interaction_df.pkl\n",
      "../data/feature/interaction/pca/w_onehot_3gram_pca_50d_interaction_df.pkl\n",
      "Index:15 Fname:w_onehot_1gram_pca_300d_interaction_df.pkl\n",
      "../data/feature/interaction/pca/w_onehot_1gram_pca_300d_interaction_df.pkl\n",
      "Index:16 Fname:w_tfidf_1gram_pca_50d_interaction_df.pkl\n",
      "../data/feature/interaction/pca/w_tfidf_1gram_pca_50d_interaction_df.pkl\n",
      "Index:17 Fname:c_tfidf_2gram_pca_150d_interaction_df.pkl\n",
      "../data/feature/interaction/pca/c_tfidf_2gram_pca_150d_interaction_df.pkl\n",
      "Index:18 Fname:w_tfidf_2gram_pca_50d_interaction_df.pkl\n",
      "../data/feature/interaction/pca/w_tfidf_2gram_pca_50d_interaction_df.pkl\n",
      "Index:19 Fname:c_onehot_2gram_pca_300d_interaction_df.pkl\n",
      "../data/feature/interaction/pca/c_onehot_2gram_pca_300d_interaction_df.pkl\n",
      "Index:20 Fname:w_tfidf_2gram_pca_300d_interaction_df.pkl\n",
      "../data/feature/interaction/pca/w_tfidf_2gram_pca_300d_interaction_df.pkl\n",
      "Index:21 Fname:w_tfidf_2gram_pca_150d_interaction_df.pkl\n",
      "../data/feature/interaction/pca/w_tfidf_2gram_pca_150d_interaction_df.pkl\n",
      "Index:22 Fname:w_tfidf_3gram_pca_300d_interaction_df.pkl\n",
      "../data/feature/interaction/pca/w_tfidf_3gram_pca_300d_interaction_df.pkl\n",
      "Index:23 Fname:c_onehot_1gram_pca_50d_interaction_df.pkl\n",
      "../data/feature/interaction/pca/c_onehot_1gram_pca_50d_interaction_df.pkl\n",
      "Index:24 Fname:w_tfidf_3gram_pca_50d_interaction_df.pkl\n",
      "../data/feature/interaction/pca/w_tfidf_3gram_pca_50d_interaction_df.pkl\n",
      "Index:25 Fname:c_onehot_1gram_pca_300d_interaction_df.pkl\n",
      "../data/feature/interaction/pca/c_onehot_1gram_pca_300d_interaction_df.pkl\n",
      "Index:26 Fname:w_onehot_3gram_pca_300d_interaction_df.pkl\n",
      "../data/feature/interaction/pca/w_onehot_3gram_pca_300d_interaction_df.pkl\n",
      "Index:27 Fname:w_onehot_2gram_pca_300d_interaction_df.pkl\n",
      "../data/feature/interaction/pca/w_onehot_2gram_pca_300d_interaction_df.pkl\n",
      "Index:28 Fname:c_tfidf_2gram_pca_50d_interaction_df.pkl\n",
      "../data/feature/interaction/pca/c_tfidf_2gram_pca_50d_interaction_df.pkl\n",
      "Index:29 Fname:w_tfidf_1gram_pca_300d_interaction_df.pkl\n",
      "../data/feature/interaction/pca/w_tfidf_1gram_pca_300d_interaction_df.pkl\n",
      "Index:30 Fname:c_onehot_3gram_pca_50d_interaction_df.pkl\n",
      "../data/feature/interaction/pca/c_onehot_3gram_pca_50d_interaction_df.pkl\n",
      "Index:31 Fname:c_tfidf_2gram_pca_300d_interaction_df.pkl\n",
      "../data/feature/interaction/pca/c_tfidf_2gram_pca_300d_interaction_df.pkl\n",
      "Index:32 Fname:c_onehot_3gram_pca_300d_interaction_df.pkl\n",
      "../data/feature/interaction/pca/c_onehot_3gram_pca_300d_interaction_df.pkl\n",
      "Index:33 Fname:c_tfidf_1gram_pca_150d_interaction_df.pkl\n",
      "../data/feature/interaction/pca/c_tfidf_1gram_pca_150d_interaction_df.pkl\n",
      "Index:34 Fname:c_onehot_2gram_pca_50d_interaction_df.pkl\n",
      "../data/feature/interaction/pca/c_onehot_2gram_pca_50d_interaction_df.pkl\n",
      "Index:35 Fname:c_onehot_3gram_pca_150d_interaction_df.pkl\n",
      "../data/feature/interaction/pca/c_onehot_3gram_pca_150d_interaction_df.pkl\n",
      "Index:36 Fname:c_tfidf_1gram_nmf_50d_interaction_df.pkl\n",
      "../data/feature/interaction/nmf/c_tfidf_1gram_nmf_50d_interaction_df.pkl\n",
      "Index:37 Fname:c_tfidf_1gram_nmf_300d_interaction_df.pkl\n",
      "../data/feature/interaction/nmf/c_tfidf_1gram_nmf_300d_interaction_df.pkl\n",
      "Index:38 Fname:w_onehot_3gram_nmf_50d_interaction_df.pkl\n",
      "../data/feature/interaction/nmf/w_onehot_3gram_nmf_50d_interaction_df.pkl\n"
     ]
    },
    {
     "name": "stderr",
     "output_type": "stream",
     "text": [
      "/home/lawbda/envs/anaconda3/lib/python3.6/site-packages/scipy/spatial/distance.py:1138: RuntimeWarning: invalid value encountered in double_scalars\n",
      "  return l1_diff.sum() / l1_sum.sum()\n",
      "/home/lawbda/envs/anaconda3/lib/python3.6/site-packages/scipy/spatial/distance.py:698: RuntimeWarning: invalid value encountered in double_scalars\n",
      "  dist = 1.0 - uv / np.sqrt(uu * vv)\n",
      "/home/lawbda/envs/anaconda3/lib/python3.6/site-packages/scipy/spatial/distance.py:1311: RuntimeWarning: invalid value encountered in double_scalars\n",
      "  return float((ntf + nft) / np.array(2.0 * ntt + ntf + nft))\n",
      "/home/lawbda/envs/anaconda3/lib/python3.6/site-packages/scipy/spatial/distance.py:853: RuntimeWarning: invalid value encountered in double_scalars\n",
      "  dist = np.double(unequal_nonzero.sum()) / np.double(nonzero.sum())\n"
     ]
    },
    {
     "name": "stdout",
     "output_type": "stream",
     "text": [
      "Index:39 Fname:w_onehot_1gram_nmf_150d_interaction_df.pkl\n",
      "../data/feature/interaction/nmf/w_onehot_1gram_nmf_150d_interaction_df.pkl\n",
      "Index:40 Fname:w_onehot_2gram_nmf_50d_interaction_df.pkl\n",
      "../data/feature/interaction/nmf/w_onehot_2gram_nmf_50d_interaction_df.pkl\n",
      "Index:41 Fname:w_tfidf_1gram_nmf_50d_interaction_df.pkl\n",
      "../data/feature/interaction/nmf/w_tfidf_1gram_nmf_50d_interaction_df.pkl\n",
      "Index:42 Fname:w_onehot_2gram_nmf_150d_interaction_df.pkl\n",
      "../data/feature/interaction/nmf/w_onehot_2gram_nmf_150d_interaction_df.pkl\n",
      "Index:43 Fname:c_onehot_2gram_nmf_50d_interaction_df.pkl\n",
      "../data/feature/interaction/nmf/c_onehot_2gram_nmf_50d_interaction_df.pkl\n",
      "Index:44 Fname:c_tfidf_3gram_nmf_300d_interaction_df.pkl\n",
      "../data/feature/interaction/nmf/c_tfidf_3gram_nmf_300d_interaction_df.pkl\n",
      "Index:45 Fname:c_tfidf_3gram_nmf_150d_interaction_df.pkl\n",
      "../data/feature/interaction/nmf/c_tfidf_3gram_nmf_150d_interaction_df.pkl\n",
      "Index:46 Fname:c_tfidf_3gram_nmf_50d_interaction_df.pkl\n",
      "../data/feature/interaction/nmf/c_tfidf_3gram_nmf_50d_interaction_df.pkl\n",
      "Index:47 Fname:w_tfidf_3gram_nmf_150d_interaction_df.pkl\n",
      "../data/feature/interaction/nmf/w_tfidf_3gram_nmf_150d_interaction_df.pkl\n",
      "Index:48 Fname:w_onehot_1gram_nmf_300d_interaction_df.pkl\n",
      "../data/feature/interaction/nmf/w_onehot_1gram_nmf_300d_interaction_df.pkl\n",
      "Index:49 Fname:c_onehot_3gram_nmf_300d_interaction_df.pkl\n",
      "../data/feature/interaction/nmf/c_onehot_3gram_nmf_300d_interaction_df.pkl\n",
      "Index:50 Fname:w_tfidf_2gram_nmf_50d_interaction_df.pkl\n",
      "../data/feature/interaction/nmf/w_tfidf_2gram_nmf_50d_interaction_df.pkl\n",
      "Index:51 Fname:c_tfidf_2gram_nmf_50d_interaction_df.pkl\n",
      "../data/feature/interaction/nmf/c_tfidf_2gram_nmf_50d_interaction_df.pkl\n",
      "Index:52 Fname:c_onehot_1gram_nmf_300d_interaction_df.pkl\n",
      "../data/feature/interaction/nmf/c_onehot_1gram_nmf_300d_interaction_df.pkl\n",
      "Index:53 Fname:c_onehot_2gram_nmf_300d_interaction_df.pkl\n",
      "../data/feature/interaction/nmf/c_onehot_2gram_nmf_300d_interaction_df.pkl\n",
      "Index:54 Fname:w_tfidf_3gram_nmf_50d_interaction_df.pkl\n",
      "../data/feature/interaction/nmf/w_tfidf_3gram_nmf_50d_interaction_df.pkl\n"
     ]
    },
    {
     "name": "stderr",
     "output_type": "stream",
     "text": [
      "/home/lawbda/envs/anaconda3/lib/python3.6/site-packages/scipy/spatial/distance.py:698: RuntimeWarning: divide by zero encountered in double_scalars\n",
      "  dist = 1.0 - uv / np.sqrt(uu * vv)\n"
     ]
    },
    {
     "name": "stdout",
     "output_type": "stream",
     "text": [
      "Index:55 Fname:c_tfidf_1gram_nmf_150d_interaction_df.pkl\n",
      "../data/feature/interaction/nmf/c_tfidf_1gram_nmf_150d_interaction_df.pkl\n",
      "Index:56 Fname:c_tfidf_2gram_nmf_150d_interaction_df.pkl\n",
      "../data/feature/interaction/nmf/c_tfidf_2gram_nmf_150d_interaction_df.pkl\n",
      "Index:57 Fname:c_onehot_2gram_nmf_150d_interaction_df.pkl\n",
      "../data/feature/interaction/nmf/c_onehot_2gram_nmf_150d_interaction_df.pkl\n",
      "Index:58 Fname:c_onehot_3gram_nmf_150d_interaction_df.pkl\n",
      "../data/feature/interaction/nmf/c_onehot_3gram_nmf_150d_interaction_df.pkl\n",
      "Index:59 Fname:w_onehot_3gram_nmf_150d_interaction_df.pkl\n",
      "../data/feature/interaction/nmf/w_onehot_3gram_nmf_150d_interaction_df.pkl\n",
      "Index:60 Fname:c_onehot_3gram_nmf_50d_interaction_df.pkl\n",
      "../data/feature/interaction/nmf/c_onehot_3gram_nmf_50d_interaction_df.pkl\n",
      "Index:61 Fname:w_tfidf_1gram_nmf_300d_interaction_df.pkl\n",
      "../data/feature/interaction/nmf/w_tfidf_1gram_nmf_300d_interaction_df.pkl\n",
      "Index:62 Fname:w_tfidf_1gram_nmf_150d_interaction_df.pkl\n",
      "../data/feature/interaction/nmf/w_tfidf_1gram_nmf_150d_interaction_df.pkl\n",
      "Index:63 Fname:w_tfidf_3gram_nmf_300d_interaction_df.pkl\n",
      "../data/feature/interaction/nmf/w_tfidf_3gram_nmf_300d_interaction_df.pkl\n",
      "Index:64 Fname:w_onehot_2gram_nmf_300d_interaction_df.pkl\n",
      "../data/feature/interaction/nmf/w_onehot_2gram_nmf_300d_interaction_df.pkl\n",
      "Index:65 Fname:w_onehot_1gram_nmf_50d_interaction_df.pkl\n",
      "../data/feature/interaction/nmf/w_onehot_1gram_nmf_50d_interaction_df.pkl\n",
      "Index:66 Fname:w_onehot_3gram_nmf_300d_interaction_df.pkl\n",
      "../data/feature/interaction/nmf/w_onehot_3gram_nmf_300d_interaction_df.pkl\n",
      "Index:67 Fname:c_tfidf_2gram_nmf_300d_interaction_df.pkl\n",
      "../data/feature/interaction/nmf/c_tfidf_2gram_nmf_300d_interaction_df.pkl\n",
      "Index:68 Fname:c_onehot_1gram_nmf_50d_interaction_df.pkl\n",
      "../data/feature/interaction/nmf/c_onehot_1gram_nmf_50d_interaction_df.pkl\n",
      "Index:69 Fname:c_onehot_1gram_nmf_150d_interaction_df.pkl\n",
      "../data/feature/interaction/nmf/c_onehot_1gram_nmf_150d_interaction_df.pkl\n",
      "Index:70 Fname:w_tfidf_2gram_nmf_150d_interaction_df.pkl\n",
      "../data/feature/interaction/nmf/w_tfidf_2gram_nmf_150d_interaction_df.pkl\n",
      "Index:71 Fname:w_tfidf_2gram_nmf_300d_interaction_df.pkl\n",
      "../data/feature/interaction/nmf/w_tfidf_2gram_nmf_300d_interaction_df.pkl\n",
      "Index:72 Fname:w_onehot_2gram_tsne_2d_interaction_df.pkl\n",
      "../data/feature/interaction/tsne_fast/w_onehot_2gram_tsne_2d_interaction_df.pkl\n",
      "Index:72 Fname:c_tfidf_3gram_tsne_1d_interaction_df.pkl\n",
      "../data/feature/interaction/tsne_fast/c_tfidf_3gram_tsne_1d_interaction_df.pkl\n",
      "Index:72 Fname:w_onehot_1gram_tsne_3d_interaction_df.pkl\n",
      "../data/feature/interaction/tsne_fast/w_onehot_1gram_tsne_3d_interaction_df.pkl\n",
      "Index:72 Fname:c_onehot_1gram_tsne_1d_interaction_df.pkl\n",
      "../data/feature/interaction/tsne_fast/c_onehot_1gram_tsne_1d_interaction_df.pkl\n",
      "Index:72 Fname:c_onehot_3gram_tsne_2d_interaction_df.pkl\n",
      "../data/feature/interaction/tsne_fast/c_onehot_3gram_tsne_2d_interaction_df.pkl\n",
      "Index:72 Fname:c_onehot_2gram_tsne_2d_interaction_df.pkl\n",
      "../data/feature/interaction/tsne_fast/c_onehot_2gram_tsne_2d_interaction_df.pkl\n",
      "Index:72 Fname:w_tfidf_1gram_tsne_1d_interaction_df.pkl\n",
      "../data/feature/interaction/tsne_fast/w_tfidf_1gram_tsne_1d_interaction_df.pkl\n",
      "Index:72 Fname:c_tfidf_1gram_tsne_3d_interaction_df.pkl\n",
      "../data/feature/interaction/tsne_fast/c_tfidf_1gram_tsne_3d_interaction_df.pkl\n",
      "Index:72 Fname:c_tfidf_2gram_tsne_3d_interaction_df.pkl\n",
      "../data/feature/interaction/tsne_fast/c_tfidf_2gram_tsne_3d_interaction_df.pkl\n",
      "Index:72 Fname:c_onehot_2gram_tsne_3d_interaction_df.pkl\n",
      "../data/feature/interaction/tsne_fast/c_onehot_2gram_tsne_3d_interaction_df.pkl\n",
      "Index:72 Fname:w_onehot_2gram_tsne_1d_interaction_df.pkl\n",
      "../data/feature/interaction/tsne_fast/w_onehot_2gram_tsne_1d_interaction_df.pkl\n",
      "Index:72 Fname:w_tfidf_1gram_tsne_3d_interaction_df.pkl\n",
      "../data/feature/interaction/tsne_fast/w_tfidf_1gram_tsne_3d_interaction_df.pkl\n",
      "Index:72 Fname:w_onehot_1gram_tsne_1d_interaction_df.pkl\n",
      "../data/feature/interaction/tsne_fast/w_onehot_1gram_tsne_1d_interaction_df.pkl\n",
      "Index:72 Fname:c_onehot_3gram_tsne_1d_interaction_df.pkl\n",
      "../data/feature/interaction/tsne_fast/c_onehot_3gram_tsne_1d_interaction_df.pkl\n",
      "Index:72 Fname:c_onehot_3gram_tsne_3d_interaction_df.pkl\n",
      "../data/feature/interaction/tsne_fast/c_onehot_3gram_tsne_3d_interaction_df.pkl\n",
      "Index:72 Fname:w_tfidf_2gram_tsne_3d_interaction_df.pkl\n",
      "../data/feature/interaction/tsne_fast/w_tfidf_2gram_tsne_3d_interaction_df.pkl\n",
      "Index:72 Fname:w_onehot_1gram_tsne_2d_interaction_df.pkl\n",
      "../data/feature/interaction/tsne_fast/w_onehot_1gram_tsne_2d_interaction_df.pkl\n",
      "Index:72 Fname:w_tfidf_1gram_tsne_2d_interaction_df.pkl\n",
      "../data/feature/interaction/tsne_fast/w_tfidf_1gram_tsne_2d_interaction_df.pkl\n",
      "Index:72 Fname:c_tfidf_1gram_tsne_1d_interaction_df.pkl\n",
      "../data/feature/interaction/tsne_fast/c_tfidf_1gram_tsne_1d_interaction_df.pkl\n",
      "Index:72 Fname:c_onehot_1gram_tsne_2d_interaction_df.pkl\n",
      "../data/feature/interaction/tsne_fast/c_onehot_1gram_tsne_2d_interaction_df.pkl\n",
      "Index:72 Fname:w_onehot_3gram_tsne_1d_interaction_df.pkl\n",
      "../data/feature/interaction/tsne_fast/w_onehot_3gram_tsne_1d_interaction_df.pkl\n",
      "Index:72 Fname:w_onehot_2gram_tsne_3d_interaction_df.pkl\n",
      "../data/feature/interaction/tsne_fast/w_onehot_2gram_tsne_3d_interaction_df.pkl\n",
      "Index:72 Fname:w_tfidf_2gram_tsne_1d_interaction_df.pkl\n",
      "../data/feature/interaction/tsne_fast/w_tfidf_2gram_tsne_1d_interaction_df.pkl\n",
      "Index:72 Fname:w_onehot_3gram_tsne_3d_interaction_df.pkl\n",
      "../data/feature/interaction/tsne_fast/w_onehot_3gram_tsne_3d_interaction_df.pkl\n",
      "Index:72 Fname:c_tfidf_3gram_tsne_2d_interaction_df.pkl\n",
      "../data/feature/interaction/tsne_fast/c_tfidf_3gram_tsne_2d_interaction_df.pkl\n",
      "Index:72 Fname:c_tfidf_3gram_tsne_3d_interaction_df.pkl\n",
      "../data/feature/interaction/tsne_fast/c_tfidf_3gram_tsne_3d_interaction_df.pkl\n",
      "Index:72 Fname:c_tfidf_2gram_tsne_2d_interaction_df.pkl\n",
      "../data/feature/interaction/tsne_fast/c_tfidf_2gram_tsne_2d_interaction_df.pkl\n",
      "Index:72 Fname:c_onehot_1gram_tsne_3d_interaction_df.pkl\n",
      "../data/feature/interaction/tsne_fast/c_onehot_1gram_tsne_3d_interaction_df.pkl\n",
      "Index:72 Fname:w_onehot_3gram_tsne_2d_interaction_df.pkl\n",
      "../data/feature/interaction/tsne_fast/w_onehot_3gram_tsne_2d_interaction_df.pkl\n",
      "Index:72 Fname:w_tfidf_3gram_tsne_2d_interaction_df.pkl\n",
      "../data/feature/interaction/tsne_fast/w_tfidf_3gram_tsne_2d_interaction_df.pkl\n",
      "Index:72 Fname:w_tfidf_2gram_tsne_2d_interaction_df.pkl\n",
      "../data/feature/interaction/tsne_fast/w_tfidf_2gram_tsne_2d_interaction_df.pkl\n",
      "Index:72 Fname:c_tfidf_1gram_tsne_2d_interaction_df.pkl\n",
      "../data/feature/interaction/tsne_fast/c_tfidf_1gram_tsne_2d_interaction_df.pkl\n",
      "Index:72 Fname:w_tfidf_3gram_tsne_3d_interaction_df.pkl\n",
      "../data/feature/interaction/tsne_fast/w_tfidf_3gram_tsne_3d_interaction_df.pkl\n",
      "Index:72 Fname:c_tfidf_2gram_tsne_1d_interaction_df.pkl\n",
      "../data/feature/interaction/tsne_fast/c_tfidf_2gram_tsne_1d_interaction_df.pkl\n",
      "Index:72 Fname:c_onehot_2gram_tsne_1d_interaction_df.pkl\n",
      "../data/feature/interaction/tsne_fast/c_onehot_2gram_tsne_1d_interaction_df.pkl\n",
      "Index:72 Fname:w_tfidf_3gram_tsne_1d_interaction_df.pkl\n",
      "../data/feature/interaction/tsne_fast/w_tfidf_3gram_tsne_1d_interaction_df.pkl\n"
     ]
    }
   ],
   "source": [
    "counter = 0\n",
    "method_list = ['pca','nmf']\n",
    "method_list += ['tsne_fast']\n",
    "for method in method_list:\n",
    "    target_dir = '{}{}/'.format(base_target_dir,method)\n",
    "    origin_dir = '{}{}/'.format(base_origin_dir,method)\n",
    "    csv_feature_dir = '{}{}/'.format(csv_feature_base_path,method)\n",
    "    \n",
    "    matrix_dir_list = [i for i in os.listdir(origin_dir)]\n",
    "    if not os.path.isdir(target_dir):\n",
    "        os.mkdir(target_dir)\n",
    "    if not os.path.isdir(csv_feature_dir):\n",
    "        os.mkdir(csv_feature_dir)\n",
    "    \n",
    "    for matrix_fname in matrix_dir_list:\n",
    "        full_matrix_path = '{}{}'.format(origin_dir,matrix_fname)\n",
    "        inter_matrix_fname = '{}_interaction_df.pkl'.format(matrix_fname.split('.')[0])\n",
    "        output_path = '{}{}'.format(target_dir,inter_matrix_fname)\n",
    "        csv_feature_path = '{}{}'.format(csv_feature_dir,inter_matrix_fname.replace('.pkl','.csv'))\n",
    "        print('Index:{} Fname:{}'.format(counter, inter_matrix_fname))\n",
    "        print(output_path)\n",
    "        if os.path.isfile(output_path) and os.path.isfile(csv_feature_path):\n",
    "            continue\n",
    "        temp_blank_merge_df = blank_merge_df.copy()\n",
    "        if not method == 'tsne_fast':\n",
    "            temp_blank_merge_df = make_interaction(full_matrix_path,temp_blank_merge_df)\n",
    "        else:\n",
    "            temp_blank_merge_df = make_tsne_interaction(full_matrix_path,temp_blank_merge_df)\n",
    "        \n",
    "        temp_blank_merge_df.to_pickle(output_path)\n",
    "        temp_blank_merge_df.to_csv(csv_feature_path,index=False)\n",
    "        counter += 1"
   ]
  },
  {
   "cell_type": "code",
   "execution_count": null,
   "metadata": {},
   "outputs": [],
   "source": []
  }
 ],
 "metadata": {
  "kernelspec": {
   "display_name": "Python 3",
   "language": "python",
   "name": "python3"
  },
  "language_info": {
   "codemirror_mode": {
    "name": "ipython",
    "version": 3
   },
   "file_extension": ".py",
   "mimetype": "text/x-python",
   "name": "python",
   "nbconvert_exporter": "python",
   "pygments_lexer": "ipython3",
   "version": "3.6.5"
  }
 },
 "nbformat": 4,
 "nbformat_minor": 2
}
