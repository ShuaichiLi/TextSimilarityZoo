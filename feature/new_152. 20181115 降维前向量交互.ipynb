{
 "cells": [
  {
   "cell_type": "markdown",
   "metadata": {},
   "source": [
    "# 交互式特征抽取\n",
    "\n",
    "建立在文本向量化表示的基础上进行交互式的特征的抽取"
   ]
  },
  {
   "cell_type": "markdown",
   "metadata": {},
   "source": [
    "# 使用scipy库中的距离计算库进行计算"
   ]
  },
  {
   "cell_type": "markdown",
   "metadata": {},
   "source": [
    "# 特征抽取 \n",
    "命名原则为 单独某个句子的特征使用q1或者q2开头\n",
    "\n",
    "两个句子共同特征 命名方式统一为q12\n",
    "\n",
    "使用 距离计算库scipy.spatial.distance 计算两个向量距离\n",
    "\n",
    "对之前tfidf cos方法的补充"
   ]
  },
  {
   "cell_type": "code",
   "execution_count": 1,
   "metadata": {},
   "outputs": [],
   "source": [
    "import pickle\n",
    "import os\n",
    "import re\n",
    "import numpy\n",
    "import numpy as np\n",
    "import pandas as pd\n",
    "import copy\n",
    "import time\n",
    "import scipy.spatial.distance as dist\n",
    "from sklearn.feature_extraction.text import TfidfVectorizer"
   ]
  },
  {
   "cell_type": "code",
   "execution_count": 2,
   "metadata": {},
   "outputs": [],
   "source": [
    "def read_pickle(fname):\n",
    "    with open(fname,'rb') as file:\n",
    "        return pickle.load(file)\n",
    "def dump_pickle(obj,fname):\n",
    "    with open(fname,'wb') as file:\n",
    "        pickle.dump(obj,file)"
   ]
  },
  {
   "cell_type": "code",
   "execution_count": 3,
   "metadata": {},
   "outputs": [],
   "source": [
    "merge_df = pd.read_pickle('../data/pure_data/merge_df_2018111172053.pkl')"
   ]
  },
  {
   "cell_type": "code",
   "execution_count": 4,
   "metadata": {},
   "outputs": [],
   "source": [
    "all_df = pd.read_csv('../data/raw_data/question_id.csv')"
   ]
  },
  {
   "cell_type": "code",
   "execution_count": 5,
   "metadata": {},
   "outputs": [],
   "source": [
    "feature_stop_columns = ['qid1','qid2','label','q1_w_list', 'q1_c_list', 'q2_w_list', 'q2_c_list']"
   ]
  },
  {
   "cell_type": "code",
   "execution_count": 6,
   "metadata": {},
   "outputs": [],
   "source": [
    "def what_time_now():\n",
    "    localtime = time.localtime()\n",
    "    return '{0:0>4}{1:0>2}{2:0>2}{3:0>2}{4:0>2}'.format(localtime[0],localtime[1],localtime[2],localtime[3],localtime[4])"
   ]
  },
  {
   "cell_type": "code",
   "execution_count": 7,
   "metadata": {},
   "outputs": [],
   "source": [
    "def interaction_output_distance(func,matrix1,matrix2):\n",
    "    '''\n",
    "    调用scipy函数计算matrix12对应行的距离\n",
    "    matrix12 shape应当一致 为数据量 * 特征维度\n",
    "    返回值为 数据量 * 1的向量 代表q1 和 q2的交互\n",
    "    '''\n",
    "    result = []\n",
    "    for index,vec in enumerate(matrix1):\n",
    "        result.append(func(vec.toarray(),matrix2[index].toarray()))\n",
    "    return result"
   ]
  },
  {
   "cell_type": "code",
   "execution_count": 8,
   "metadata": {},
   "outputs": [],
   "source": [
    "def scipy_dist_interaction_df_update(func,df,matrix1,matrix2,label='w_tfidf_1gram'):\n",
    "    func_name = func.__name__\n",
    "    new_label = 'q12_{0}_{1}'.format(label,func_name)\n",
    "    df[new_label] = interaction_output_distance(func,matrix1,matrix2)\n",
    "    # 平滑\n",
    "    df = df.fillna(value=1e-6)\n",
    "    # 归一化\n",
    "    max_val = max(df[new_label])\n",
    "    min_val = min(df[new_label])\n",
    "    df[new_label] = df[new_label].apply(lambda x:(x-min_val)/(max_val-min_val))\n",
    "    return df"
   ]
  },
  {
   "cell_type": "code",
   "execution_count": 9,
   "metadata": {},
   "outputs": [],
   "source": [
    "def distance_pipline(df,matrix1,matrix2,label='w_tfidf_1gram'):\n",
    "    distance_func_list = [dist.braycurtis,dist.canberra,dist.chebyshev,\n",
    "                      dist.cityblock,dist.correlation,dist.dice,dist.euclidean,dist.cosine,dist.jaccard,dist.hamming,\n",
    "                     dist.kulsinski,dist.sqeuclidean]\n",
    "    for dist_fun in distance_func_list:\n",
    "        df = scipy_dist_interaction_df_update(dist_fun,df,matrix1,matrix2,label)\n",
    "    return df"
   ]
  },
  {
   "cell_type": "code",
   "execution_count": 10,
   "metadata": {},
   "outputs": [],
   "source": [
    "blank_merge_df = merge_df[['qid1','qid2','label']].copy()"
   ]
  },
  {
   "cell_type": "markdown",
   "metadata": {},
   "source": [
    "# 批量生成特征 TSNE单独做"
   ]
  },
  {
   "cell_type": "code",
   "execution_count": 11,
   "metadata": {},
   "outputs": [],
   "source": [
    "def make_interaction(matrix_path,df):\n",
    "    matrix_fname = matrix_path.split('/')[-1]\n",
    "    matrix_granu = matrix_fname.split('_')[0]\n",
    "    matrix_label = matrix_granu.split('.')[0]\n",
    "    matrix_self = read_pickle(matrix_path)\n",
    "    \n",
    "    search_table = {}\n",
    "    for i,_ in enumerate(all_df.itertuples()):\n",
    "        search_table[all_df.loc[i,'qid']] = matrix_self[i]\n",
    "    \n",
    "    matrix1 = np.array([search_table[i] for i in df.qid1.tolist()])\n",
    "    matrix2 = np.array([search_table[i] for i in df.qid2.tolist()])\n",
    "    df = distance_pipline(df,matrix1,matrix2,label=matrix_label)\n",
    "    return df"
   ]
  },
  {
   "cell_type": "markdown",
   "metadata": {},
   "source": [
    "# 计算同时保存特征"
   ]
  },
  {
   "cell_type": "code",
   "execution_count": 12,
   "metadata": {},
   "outputs": [],
   "source": [
    "base_origin_dir = '../data/feature/matrix/'\n",
    "base_target_dir = '../data/feature/interaction/'"
   ]
  },
  {
   "cell_type": "code",
   "execution_count": 13,
   "metadata": {},
   "outputs": [],
   "source": [
    "if not os.path.isdir(base_target_dir):\n",
    "    os.mkdir(base_target_dir)"
   ]
  },
  {
   "cell_type": "code",
   "execution_count": null,
   "metadata": {
    "scrolled": true
   },
   "outputs": [
    {
     "name": "stdout",
     "output_type": "stream",
     "text": [
      "../data/feature/interaction/onehot/c_onehot_5gram_matrix_interaction_df.pkl\n"
     ]
    },
    {
     "name": "stderr",
     "output_type": "stream",
     "text": [
      "/home/lawbda/envs/anaconda3/lib/python3.6/site-packages/scipy/spatial/distance.py:1138: RuntimeWarning: invalid value encountered in double_scalars\n",
      "  return l1_diff.sum() / l1_sum.sum()\n"
     ]
    }
   ],
   "source": [
    "counter = 0\n",
    "method_list = ['onehot','tfidf']\n",
    "for method in method_list:\n",
    "    target_dir = '{}{}/'.format(base_target_dir,method)\n",
    "    origin_dir = '{}{}/'.format(base_origin_dir,method)\n",
    "    \n",
    "    matrix_dir_list = [i for i in os.listdir(origin_dir) if i.split('.')[-1]!='txt']\n",
    "    if not os.path.isdir(target_dir):\n",
    "        os.mkdir(target_dir)\n",
    "\n",
    "    for matrix_fname in matrix_dir_list:\n",
    "        full_matrix_path = '{}{}'.format(origin_dir,matrix_fname)\n",
    "        matrix_fname = '_'.join(matrix_fname.split('_')[:-1])\n",
    "        inter_matrix_fname = '{}_interaction_df.pkl'.format(matrix_fname.split('.')[0])\n",
    "        \n",
    "        output_path = '{}{}'.format(target_dir,inter_matrix_fname)\n",
    "#         print('Index:{} Fname:{}'.format(counter, full_matrix_path))\n",
    "        print(output_path)\n",
    "        if os.path.isfile(output_path) and os.path.isfile(csv_feature_path):\n",
    "            continue\n",
    "        temp_blank_merge_df = blank_merge_df.copy()\n",
    "\n",
    "        temp_blank_merge_df = make_interaction(full_matrix_path,temp_blank_merge_df)\n",
    "        temp_blank_merge_df.to_pickle(output_path)\n",
    "        counter += 1"
   ]
  },
  {
   "cell_type": "code",
   "execution_count": null,
   "metadata": {},
   "outputs": [],
   "source": []
  }
 ],
 "metadata": {
  "kernelspec": {
   "display_name": "Python 3",
   "language": "python",
   "name": "python3"
  },
  "language_info": {
   "codemirror_mode": {
    "name": "ipython",
    "version": 3
   },
   "file_extension": ".py",
   "mimetype": "text/x-python",
   "name": "python",
   "nbconvert_exporter": "python",
   "pygments_lexer": "ipython3",
   "version": "3.6.5"
  }
 },
 "nbformat": 4,
 "nbformat_minor": 2
}
